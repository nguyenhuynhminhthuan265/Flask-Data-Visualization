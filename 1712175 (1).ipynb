{
  "nbformat": 4,
  "nbformat_minor": 0,
  "metadata": {
    "colab": {
      "name": "MNIST_SVM.ipynb",
      "provenance": [],
      "collapsed_sections": []
    },
    "kernelspec": {
      "name": "python38232bit3d7e3df7d8bf429d8377728140fa5863",
      "display_name": "Python 3.8.2 32-bit"
    }
  },
  "cells": [
    {
      "cell_type": "code",
      "metadata": {
        "id": "bVulCQ3JXVRT",
        "colab_type": "code",
        "colab": {}
      },
      "source": [
        "#Load MNIST dataset\n",
        "# MNIST dataset has a shape of (70000, 784) meaning there are 70,000 images with 784 dimensions (784 features).\n",
        "import pandas as pd\n",
        "import numpy as np\n",
        "from sklearn.datasets import fetch_openml\n",
        "mnist = fetch_openml(\"mnist_784\")"
      ],
      "execution_count": 0,
      "outputs": []
    },
    {
      "cell_type": "code",
      "metadata": {
        "id": "mjA8_AxLOkUZ",
        "colab_type": "code",
        "outputId": "73dce441-8421-45b8-e580-7c304252b026",
        "colab": {
          "base_uri": "https://localhost:8080/",
          "height": 176
        }
      },
      "source": [
        "#Show some images in the dataset.\n",
        "import matplotlib.pyplot as plt\n",
        "\n",
        "image = mnist.data[0].reshape((28,28))\n",
        "label =  mnist.target[0]\n",
        "\n",
        "plt.figure(figsize = (15,2))\n",
        "imgplot = plt.imshow(image,cmap=plt.cm.binary)\n",
        "plt.show()\n",
        "print(\"Label:\",label)"
      ],
      "execution_count": 4,
      "outputs": [
        {
          "output_type": "display_data",
          "data": {
            "image/png": "[encoded data removed]",
            "text/plain": [
              "<Figure size 1080x144 with 1 Axes>"
            ]
          },
          "metadata": {
            "tags": [],
            "needs_background": "light"
          }
        },
        {
          "output_type": "stream",
          "text": [
            "Label: 5\n"
          ],
          "name": "stdout"
        }
      ]
    },
    {
      "cell_type": "code",
      "metadata": {
        "id": "TDFxZOalX1tb",
        "colab_type": "code",
        "colab": {}
      },
      "source": [
        "from sklearn.model_selection import train_test_split\n",
        "# test_size: what proportion of original data is used for test set\n",
        "train_img, test_img, train_lbl, test_lbl = train_test_split( mnist.data, mnist.target, test_size=1/7.0, random_state=0)"
      ],
      "execution_count": 0,
      "outputs": []
    },
    {
      "cell_type": "code",
      "metadata": {
        "id": "Mqo49YNUX-YZ",
        "colab_type": "code",
        "colab": {}
      },
      "source": [
        "from sklearn.preprocessing import StandardScaler\n",
        "scaler = StandardScaler()\n",
        "# Fit on training set only.\n",
        "scaler.fit(train_img)\n",
        "# Apply transform to both the training set and the test set.\n",
        "train_normalized_img = scaler.transform(train_img)\n",
        "test_normalized_img = scaler.transform(test_img)"
      ],
      "execution_count": 0,
      "outputs": []
    },
    {
      "cell_type": "code",
      "metadata": {
        "id": "zBEucorM7gnf",
        "colab_type": "code",
        "colab": {}
      },
      "source": [
        "# PCA\n",
        "from sklearn.decomposition import PCA\n",
        "pca = PCA(0.9)\n",
        "train_img = pca.fit_transform(train_normalized_img)\n",
        "test_img = pca.fit_transform(test_normalized_img)\n",
        "\n",
        "train_normalized_img = pd.DataFrame(data = train_img)\n",
        "test_normalized_img = pd.DataFrame(data = test_img)\n"
      ],
      "execution_count": 0,
      "outputs": []
    },
    {
      "cell_type": "code",
      "metadata": {
        "id": "dIpk0uqMZm_C",
        "colab_type": "code",
        "colab": {}
      },
      "source": [
        "#Import svm model\n",
        "from sklearn import svm\n",
        "\n",
        "#Create a svm Classifier\n",
        "clf = svm.SVC(kernel='linear') # Linear Kernel\n",
        "\n",
        "#Train the model using the training sets\n",
        "clf.fit(train_normalized_img, train_lbl)\n",
        "\n",
        "#Evaluate our model. The result is the accuracy metric\n",
        "clf.score(test_normalized_img, test_lbl)"
      ],
      "execution_count": 0,
      "outputs": []
    },
    {
      "cell_type": "code",
      "metadata": {
        "id": "8LilUsLWT-QB",
        "colab_type": "code",
        "outputId": "806670d4-8c48-4d2b-fab7-ef8555c0d61d",
        "colab": {
          "base_uri": "https://localhost:8080/",
          "height": 159
        }
      },
      "source": [
        "#Get one image from test set\n",
        "img = test_img[35] #(784)\n",
        "\n",
        "#Convert to 28,28 for visualization\n",
        "img = img.reshape(28,28)\n",
        "plt.figure(figsize = (15,2))\n",
        "imgplot = plt.imshow(img,cmap=plt.cm.binary)\n",
        "plt.show()"
      ],
      "execution_count": 7,
      "outputs": [
        {
          "output_type": "display_data",
          "data": {
            "image/png": "[encoded data removed]",
            "text/plain": [
              "<Figure size 1080x144 with 1 Axes>"
            ]
          },
          "metadata": {
            "tags": [],
            "needs_background": "light"
          }
        }
      ]
    },
    {
      "cell_type": "code",
      "metadata": {
        "id": "HWYt_QRnZ6PW",
        "colab_type": "code",
        "outputId": "64201e80-1fa0-41b6-a0cd-e1d53bab3a30",
        "colab": {
          "base_uri": "https://localhost:8080/",
          "height": 35
        }
      },
      "source": [
        "img = img.reshape(784)\n",
        "img_normalized = scaler.transform([img])\n",
        "img_normalized.shape"
      ],
      "execution_count": 0,
      "outputs": [
        {
          "output_type": "execute_result",
          "data": {
            "text/plain": [
              "(1, 784)"
            ]
          },
          "metadata": {
            "tags": []
          },
          "execution_count": 20
        }
      ]
    },
    {
      "cell_type": "code",
      "metadata": {
        "id": "iOEAVo_oatH_",
        "colab_type": "code",
        "outputId": "af2d5163-c325-4913-ccf0-a62f08d8fabf",
        "colab": {
          "base_uri": "https://localhost:8080/",
          "height": 35
        }
      },
      "source": [
        "results = clf.predict(img_normalized)\n",
        "results"
      ],
      "execution_count": 0,
      "outputs": [
        {
          "output_type": "execute_result",
          "data": {
            "text/plain": [
              "array(['6'], dtype=object)"
            ]
          },
          "metadata": {
            "tags": []
          },
          "execution_count": 22
        }
      ]
    },
    {
      "cell_type": "code",
      "metadata": {
        "id": "O2ReHVXsZyUx",
        "colab_type": "code",
        "outputId": "f135201a-26b1-4557-8ac4-dde14c706a56",
        "colab": {
          "base_uri": "https://localhost:8080/",
          "height": 35
        }
      },
      "source": [
        "results[0]"
      ],
      "execution_count": 0,
      "outputs": [
        {
          "output_type": "execute_result",
          "data": {
            "text/plain": [
              "'6'"
            ]
          },
          "metadata": {
            "tags": []
          },
          "execution_count": 23
        }
      ]
    }
  ]
}